{
 "cells": [
  {
   "attachments": {},
   "cell_type": "markdown",
   "metadata": {},
   "source": [
    "En esta evaluación tendremos que crearnos una clase. Estamos trabajando para una editorial y tienen muchos ficheros de tipo .txt. Quieren hacer un estudio de palabras de los textos que tienen, para ello nos piden que nos creemos una clase que:\n",
    "\n",
    "- Reciba dos parámetros en el método constructor: \n",
    "\n",
    "    - La ruta donde se encuentra el fichero\n",
    "    - El nombre y la extensión del fichero que quieren abrir. \n",
    "\n"
   ]
  },
  {
   "cell_type": "markdown",
   "metadata": {},
   "source": [
    "- Tenga un método que nos abra el fichero en python, como un único *string*. Este método tiene que ser capaz de abrir cualquier tipo de fichero y que este ubicado en cualquier ubicación de nuestros ordenadores. \n",
    "\n"
   ]
  },
  {
   "cell_type": "markdown",
   "metadata": {},
   "source": [
    "- Tenga un método que lea un número \"X\" de palabras del texto. En este caso, el número de palabras que queremos leer debe ser un parámetro de este método. En este código deberemos incluir:\n",
    "    - Que si nos pasan como valor de número de palabras un número que no sea *integer*, nos salga un mensaje por pantalla que nos avise que la operación no se pueden hacer ya que necesitamos que sea un número *integer*. \n",
    "\n"
   ]
  },
  {
   "cell_type": "markdown",
   "metadata": {},
   "source": [
    "- Similar que en el paso anterior, crea un método que nos permita leer \"X\" lineas del texto. En este caso, el número de lineas que quiere leer el usuario no debe ser un parámetro del método. Tendremos que:\n",
    "\n",
    "    - Crear un *input* en el método que le pregunte al usuario cuántas líneas quiere leer\n",
    "\n",
    "    - Que tenga un control de errores por si el valor que nos pasa el usuario no es correcto, como por ejemplo un valor decimal. \n",
    "\n",
    "    - Además tenemos que tener en cuenta en el código que puede que el usuario quiera leer todas las líneas del archivo. Incluye en el programa el código necesario para que si el usuario nos indica que quiere leer todas las líneas el programa lo pueda hacer.  \n",
    "\n",
    "    **BONUS** En vez de devolver el resultado como una lista de *string* devuelvelo como un único *string*. \n",
    "\n"
   ]
  },
  {
   "cell_type": "markdown",
   "metadata": {},
   "source": [
    "- En este punto de la evaluación ya os habréis dado cuenta que en este fichero las primeras lineas no corresponden al quijote. Pero entonces... ¿en qué punto empieza el libro del quijote? En concreto, el libro está comprendido entre la lineas 1780 y 74276. Crea un método que solo nos devuelva el contenido del libro, sin la introducción inicial. \n",
    "\n",
    "\n"
   ]
  },
  {
   "cell_type": "markdown",
   "metadata": {},
   "source": [
    "-  Crea un último método en la clase que nos permita extraer las veces que aparece determinada palabra en el libro. Para eso este método deberá: \n",
    "\n",
    "    - Recibir la palabra o palabras que quiere buscar el usuario en el texto. \n",
    "    - Devolver el número de veces que aparece dicha palabra. \n",
    "    - Para confirmar que vuestro código, deberéis buscar las siguientes palabras como ejemplos de este método: \n",
    "\n",
    "        - Quijote, debemos tener en cuenta que aparezca en mayúscula o en minúscula, es decir, \"Quijote\" o \"quijote\"\n",
    "\n",
    "        - Alonso,  debemos tener en cuenta que aparezca en mayúscula o en minúscula, es decir, \"Quijote\" o \"quijote\"\n",
    "\n",
    "        - Don Quijote, debemos tener en cuenta que aparezca en mayúscula o en minúscula, es decir, \"Quijote\" o \"quijote\"\n",
    "    \n",
    "- **Nota**: Puede que tengáis algunos problemas para abrir el fichero, esto es por el `encoding` que tiene. Para solucionar este problema deberéis usar un encoding = \"latin-1\"\n",
    "\n",
    "- **Nota**: El fichero de `quijote.txt` debe encontrarse en una carpeta llamada `data`, diferente de donde se encuentra este fichero jupyter con la resolución."
   ]
  },
  {
   "cell_type": "code",
   "execution_count": 1,
   "metadata": {},
   "outputs": [],
   "source": [
    "#Primero importamos las librerías necesarias para poder operar con la clase que vamos a crear\n",
    "\n",
    "import os\n",
    "import re"
   ]
  },
  {
   "cell_type": "code",
   "execution_count": 19,
   "metadata": {},
   "outputs": [],
   "source": [
    "#Creamos la clase y su metodos\n",
    "\n",
    "class Read_txt():\n",
    "    \n",
    "    def __init__(self, ruta, encod):         \n",
    "        self.ruta = ruta\n",
    "        self.encod = encod\n",
    "        \n",
    "        \n",
    "        \n",
    "    def openfile(self):        \n",
    "        with open (self.ruta, encoding = self.encod) as f:\n",
    "            lectura_archivo = f.read()            \n",
    "            \n",
    "        return lectura_archivo\n",
    "           \n",
    "        \n",
    "        \n",
    "    def getwords(self, num_words):\n",
    "        self.num_words = num_words\n",
    "        \n",
    "        try:            \n",
    "            texto_completo = self.openfile()\n",
    "            lista_limpia = re.sub('\\n', ' ', texto_completo)\n",
    "            lista_dividida = re.split(' +', lista_limpia)\n",
    "            lista_seleccion = lista_dividida[:self.num_words]\n",
    "            texto_seleccion = ' '.join(lista_seleccion)            \n",
    "            return texto_seleccion\n",
    "                           \n",
    "        except TypeError:\n",
    "            print('Debes introducir un número entero')\n",
    "        \n",
    "            \n",
    "        \n",
    "            \n",
    "    def getwords2(self):          \n",
    "                       \n",
    "        choice = int(input('''Elige una opcion:\n",
    "                            1. Leer el libro entero;\n",
    "                            2. Leer palabras'''))\n",
    "                               \n",
    "        if choice == 1:            \n",
    "            self.openfile()\n",
    "                      \n",
    "                       \n",
    "        elif choice == 2:\n",
    "            try:            \n",
    "                self.num_words = int(input('¿Cuantas palabras quieres leer?'))\n",
    "                texto_seleccion2 = self.getwords(self.num_words)\n",
    "                return texto_seleccion2\n",
    "                                    \n",
    "            except ValueError:\n",
    "                        print('Introduce un numero entero')\n",
    "        else:\n",
    "            print('elige una opcion valida')\n",
    "            self.getwords2()\n",
    "            \n",
    "              \n",
    "            \n",
    "    def dropintro(self):\n",
    "        with open (self.ruta, encoding = self.encod) as f:\n",
    "            lista_completa = f.readlines()\n",
    "            lista_libro = lista_completa[1779:74276]\n",
    "            solo_libro = ''.join(lista_libro)\n",
    "            print(solo_libro) \n",
    "            \n",
    "            \n",
    "            \n",
    "    def searchwords(self):\n",
    "        texto_completo = self.openfile()\n",
    "              \n",
    "        palabra = input('¿Que palabra quieres buscar?')\n",
    "        palabra_may = palabra.capitalize()\n",
    "        palabra_min = palabra.lower()\n",
    "        busqueda = re.findall(f'{palabra_may}|{palabra_min}', texto_completo)\n",
    "        recuento = len(busqueda)\n",
    "        \n",
    "        return recuento         \n",
    "                         \n",
    "        "
   ]
  },
  {
   "cell_type": "code",
   "execution_count": 12,
   "metadata": {},
   "outputs": [],
   "source": [
    "#Creamos una variable con el nombre del archivo y su extension \n",
    "\n",
    "nombre_archivo = 'quijote.txt'\n",
    "\n",
    "\n",
    "#Creamos una variable con el encoding del archivo\n",
    "\n",
    "encoding_archivo = 'latin-1'\n",
    "\n",
    "\n",
    "#Creamos una variable con la ruta del archivo, teniendo en cuenta que, junto a este código, debe guardarse en una carpeta llamada `data`\n",
    "\n",
    "ruta_archivo = os.getcwd() +'/data/'+ nombre_archivo\n",
    "\n",
    "\n",
    "#Creamos un objeto de la clase Read_txt para poder probar los metodos creados\n",
    "\n",
    "libro1 = Read_txt(ruta_archivo, encoding_archivo)"
   ]
  },
  {
   "cell_type": "code",
   "execution_count": null,
   "metadata": {},
   "outputs": [],
   "source": [
    "# Leemos el archivo con el metodo openfile() \n",
    "\n",
    "lectura1 = libro1.openfile()\n",
    "print(lectura1)"
   ]
  },
  {
   "cell_type": "code",
   "execution_count": 268,
   "metadata": {},
   "outputs": [
    {
     "name": "stdout",
     "output_type": "stream",
     "text": [
      "Project Gutenberg Etext of Don Quijote, by Cervantes, in Spanish #2 in our series by Cervantes We will be presenting\n"
     ]
    }
   ],
   "source": [
    "#Escribe cuantas palabras quieres leer\n",
    "\n",
    "num_palabras = 20\n",
    "\n",
    "#Leemos el número de palabras seleccionadas con el metodo getwords()\n",
    "\n",
    "lectura2 = libro1.getwords(num_palabras)\n",
    "print(lectura2)\n"
   ]
  },
  {
   "cell_type": "code",
   "execution_count": 7,
   "metadata": {},
   "outputs": [
    {
     "name": "stdout",
     "output_type": "stream",
     "text": [
      "Project Gutenberg Etext of Don Quijote, by Cervantes, in Spanish #2 in our series by Cervantes We will be presenting\n"
     ]
    }
   ],
   "source": [
    "#Usamos el metodo getwords2() para que el usuario pueda introducir con un input si quiere leer todo el texto o sólo un número de palabras\n",
    "#El usuario podrá seleccionar el numero de palabras que quiere leer\n",
    "\n",
    "lectura3 = libro1.getwords2()\n",
    "print(lectura3)\n"
   ]
  },
  {
   "cell_type": "code",
   "execution_count": null,
   "metadata": {},
   "outputs": [],
   "source": [
    "#Usamos el método dropintro() para leer el archivo sin la introduccion\n",
    "\n",
    "lectura4 = libro1.dropintro()\n",
    "lectura4\n"
   ]
  },
  {
   "cell_type": "code",
   "execution_count": 20,
   "metadata": {},
   "outputs": [
    {
     "name": "stdout",
     "output_type": "stream",
     "text": [
      "717\n"
     ]
    }
   ],
   "source": [
    "#Usamos el metodo searchwords() para buscar cuantas veces se repite una palabra, que introducirá el usuario con un input.\n",
    "\n",
    "recuento1 = libro1.searchwords()\n",
    "recuento1\n"
   ]
  }
 ],
 "metadata": {
  "kernelspec": {
   "display_name": "Python 3",
   "language": "python",
   "name": "python3"
  },
  "language_info": {
   "codemirror_mode": {
    "name": "ipython",
    "version": 3
   },
   "file_extension": ".py",
   "mimetype": "text/x-python",
   "name": "python",
   "nbconvert_exporter": "python",
   "pygments_lexer": "ipython3",
   "version": "3.9.7"
  },
  "orig_nbformat": 4,
  "vscode": {
   "interpreter": {
    "hash": "31f2aee4e71d21fbe5cf8b01ff0e069b9275f58929596ceb00d14d90e3e16cd6"
   }
  }
 },
 "nbformat": 4,
 "nbformat_minor": 2
}
