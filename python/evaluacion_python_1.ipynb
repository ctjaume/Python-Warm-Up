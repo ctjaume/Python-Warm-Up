{
 "cells": [
  {
   "attachments": {},
   "cell_type": "markdown",
   "metadata": {},
   "source": [
    "**Métodos de *strings***\n",
    "\n",
    "Dado el siguiente *string* \n",
    "\n",
    "```python\n",
    "\n",
    "string = \"\"\"Hoy estamos en una clase de repaso,\n",
    "el objetivo es intentar solucionar todas vuestras dudas, \n",
    "preguntad todo lo que queráis! \n",
    "\"\"\"\n",
    "```\n",
    "\n",
    "\n",
    "Contesta a las siguientes preguntas: \n",
    "\n",
    "1️⃣ Crea dos variables nuevas: \n",
    "    - Una con el *string* en mayúsculas\n",
    "    - Otra con las letras en minúsculas\n",
    "\n",
    "2️⃣ Pon todas las primeras letras del *string* en mayúscula\n",
    "\n",
    "3️⃣ Separa el *string*  por los espacios y almacena el resultado en una lista llamanda `texto_lista`\n",
    "\n",
    "4️⃣ De la lista obtenida en el ejercicio anterior, selecciona solo los 5 primero elementos y almacena los resultados en una variable que se llame `texto_lista_corta` \n",
    "\n",
    "5️⃣ De la lista obtenida en el ejercicio 5. Vuelve a convertirlo en *string* \n",
    "\n",
    "6️⃣ Con el *string* obtenido en el paso anterior: \n",
    "\n",
    "    - Esta la palabra \"el\" en el *string* \n",
    "\n",
    "    - Reemplaza \"Hoy\" por nada\n",
    "\n",
    "    - El ejercicio anterior nos ha dejado espacios al inicio del string, eliminalos\n"
   ]
  },
  {
   "attachments": {},
   "cell_type": "markdown",
   "metadata": {},
   "source": [
    "**Encuentra el número que no está en la lista**\n",
    "\n",
    "Tenemos una lista desordenada con números positivos de 1 a n. Siempre faltará un sólo número de esta lista aleatoria, ¿cómo identifico cuál falta? Cread un programa para que este código devuelva los resultados deseados:\n",
    "\n",
    "```python\n",
    "lista1 = [3,7,1,2,8,4,5] # nos tiene que devolver 6\n",
    "lista2 = [4,6,1,3,5] #  nos tiene que devolver 2\n",
    "lista3 = [34,35,36,38,39,40] # nos tiene que devolver 37\n",
    "```\n",
    "\n",
    "BONUS: Introduce los resultados obtenidos en un diccionario, indicando que numero falta para cada una de las listas:\n",
    "```python\n",
    "# por ejemplo\n",
    "\n",
    "resultados = {'falta_lista_1': valor_numerico_1, 'falta_lista_2': valor_numerico_2, 'falta_lista_3': valor_numerico_3}\n",
    "```"
   ]
  },
  {
   "cell_type": "code",
   "execution_count": 6,
   "metadata": {},
   "outputs": [],
   "source": [
    "lista1 = [3,7,1,2,8,4,5]\n",
    "lista2 = [4,6,1,3,5] \n",
    "lista3 = [34,35,36,38,39,40]\n"
   ]
  },
  {
   "attachments": {},
   "cell_type": "markdown",
   "metadata": {},
   "source": [
    "**Métodos de *strings***\n",
    "\n",
    "Dado el siguiente *string* \n",
    "\n",
    "```python\n",
    "\n",
    "string = \"\"\"Hoy estamos en una clase de repaso,\n",
    "el objetivo es intentar solucionar todas vuestras dudas, \n",
    "preguntad todo lo que queráis! \n",
    "\"\"\"\n",
    "```\n",
    "\n",
    "\n",
    "Contesta a las siguientes preguntas: \n",
    "\n",
    "1️⃣ Crea dos variables nuevas: \n",
    "    - Una con el *string* en mayúsculas\n",
    "    - Otra con las letras en minúsculas"
   ]
  },
  {
   "cell_type": "code",
   "execution_count": 4,
   "metadata": {},
   "outputs": [
    {
     "name": "stdout",
     "output_type": "stream",
     "text": [
      "HOY ESTAMOS EN UNA CLASE DE REPASO,\n",
      "EL OBJETIVO ES INTENTAR SOLUCIONAR TODAS VUESTRAS DUDAS, \n",
      "PREGUNTAD TODO LO QUE QUERÁIS! \n",
      "\n",
      "hoy estamos en una clase de repaso,\n",
      "el objetivo es intentar solucionar todas vuestras dudas, \n",
      "preguntad todo lo que queráis! \n",
      "\n"
     ]
    }
   ],
   "source": [
    "string1 = \"\"\"Hoy estamos en una clase de repaso,\n",
    "el objetivo es intentar solucionar todas vuestras dudas, \n",
    "preguntad todo lo que queráis! \n",
    "\"\"\"\n",
    "\n",
    "string_up = string1.upper()\n",
    "print(string_up)\n",
    "\n",
    "string_lo = string1.lower()\n",
    "print(string_lo)\n"
   ]
  },
  {
   "attachments": {},
   "cell_type": "markdown",
   "metadata": {},
   "source": [
    "2️⃣ Pon todas las primeras letras del *string* en mayúscula\n",
    "\n",
    "3️⃣ Separa el *string*  por los espacios y almacena el resultado en una lista llamanda `texto_lista`"
   ]
  },
  {
   "cell_type": "code",
   "execution_count": 12,
   "metadata": {},
   "outputs": [
    {
     "name": "stdout",
     "output_type": "stream",
     "text": [
      "Hoy Estamos En Una Clase De Repaso,\n",
      "El Objetivo Es Intentar Solucionar Todas Vuestras Dudas, \n",
      "Preguntad Todo Lo Que Queráis! \n",
      "\n",
      "['Hoy', 'estamos', 'en', 'una', 'clase', 'de', 'repaso,', 'el', 'objetivo', 'es', 'intentar', 'solucionar', 'todas', 'vuestras', 'dudas,', 'preguntad', 'todo', 'lo', 'que', 'queráis!']\n"
     ]
    }
   ],
   "source": [
    "string_cap = string1.title()\n",
    "print(string_cap)\n",
    "\n",
    "texto_lista = string1.split()\n",
    "print(texto_lista)"
   ]
  },
  {
   "attachments": {},
   "cell_type": "markdown",
   "metadata": {},
   "source": [
    "4️⃣ De la lista obtenida en el ejercicio anterior, selecciona solo los 5 primero elementos y almacena los resultados en una variable que se llame `texto_lista_corta` \n",
    "\n",
    "5️⃣ De la lista obtenida en el ejercicio 5. Vuelve a convertirlo en *string*"
   ]
  },
  {
   "cell_type": "code",
   "execution_count": 32,
   "metadata": {},
   "outputs": [
    {
     "name": "stdout",
     "output_type": "stream",
     "text": [
      "['Hoy', 'estamos', 'en', 'una', 'clase']\n",
      "Hoy estamos en una clase\n"
     ]
    }
   ],
   "source": [
    "texto_lista_corta = texto_lista[:5]\n",
    "print(texto_lista_corta)\n",
    "\n",
    "string2 = ' '.join(texto_lista_corta)\n",
    "print(string2)"
   ]
  },
  {
   "attachments": {},
   "cell_type": "markdown",
   "metadata": {},
   "source": [
    "6️⃣ Con el *string* obtenido en el paso anterior: \n",
    "\n",
    "    - Esta la palabra \"el\" en el *string* \n",
    "\n",
    "    - Reemplaza \"Hoy\" por nada\n",
    "\n",
    "    - El ejercicio anterior nos ha dejado espacios al inicio del string, eliminalos"
   ]
  },
  {
   "cell_type": "code",
   "execution_count": 40,
   "metadata": {},
   "outputs": [
    {
     "name": "stdout",
     "output_type": "stream",
     "text": [
      "¿Está \"el\" en el string anterior?: False\n",
      " estamos en una clase\n",
      "Estamos en una clase\n"
     ]
    }
   ],
   "source": [
    "print((F'¿Está \"el\" en el string anterior?: {\"el\" in string2}'))\n",
    "\n",
    "string3 = string2.replace('Hoy','')\n",
    "print(string3)\n",
    "\n",
    "string4 = string3.strip()\n",
    "print(string4.capitalize())"
   ]
  },
  {
   "attachments": {},
   "cell_type": "markdown",
   "metadata": {},
   "source": [
    "Tenemos una lista desordenada con números positivos de 1 a n. Siempre faltará un sólo número de esta lista aleatoria, ¿cómo identifico cuál falta? Cread un programa para que este código devuelva los resultados deseados:\n",
    "\n",
    "```python\n",
    "lista1 = [3,7,1,2,8,4,5] # nos tiene que devolver 6\n",
    "lista2 = [4,6,1,3,5] #  nos tiene que devolver 2\n",
    "lista3 = [34,35,36,38,39,40] # nos tiene que devolver 37\n",
    "```\n",
    "\n",
    "BONUS: Introduce los resultados obtenidos en un diccionario, indicando que numero falta para cada una de las listas:\n",
    "```python\n",
    "# por ejemplo\n",
    "\n",
    "resultados = {'falta_lista_1': valor_numerico_1, 'falta_lista_2': valor_numerico_2, 'falta_lista_3': valor_numerico_3}\n",
    "```"
   ]
  },
  {
   "cell_type": "code",
   "execution_count": 8,
   "metadata": {},
   "outputs": [
    {
     "name": "stdout",
     "output_type": "stream",
     "text": [
      "Falta el número 6\n",
      "Falta el número 2\n",
      "Falta el número 37\n",
      "{'falta_lista_1': 6, 'falta_lista_2': 2, 'falta_lista_3': 37}\n"
     ]
    }
   ],
   "source": [
    "resultados = {}\n",
    "\n",
    "lista1 = [3,7,1,2,8,4,5]\n",
    "for i in range(min(lista1),max(lista1)):\n",
    "    if i not in lista1:\n",
    "        print(F'Falta el número {i}')\n",
    "        resultados.setdefault('falta_lista_1', i)\n",
    "\n",
    "lista2 = [4,6,1,3,5] \n",
    "for i in range(min(lista2), max(lista2)):\n",
    "    if i not in lista2:\n",
    "        print(F'Falta el número {i}')\n",
    "        resultados.setdefault('falta_lista_2', i)\n",
    "        \n",
    "lista3 = [34,35,36,38,39,40]\n",
    "for i in range(min(lista3), max(lista3)):\n",
    "    if i not in lista3:\n",
    "        print(F'Falta el número {i}')\n",
    "        resultados.setdefault('falta_lista_3', i)\n",
    "        \n",
    "print(resultados)\n",
    "\n"
   ]
  },
  {
   "cell_type": "code",
   "execution_count": 41,
   "metadata": {},
   "outputs": [
    {
     "name": "stdout",
     "output_type": "stream",
     "text": [
      "Falta el número 6\n",
      "Falta el número 2\n",
      "Falta el número 37\n",
      "{'falta_lista1': 6, 'falta_lista2': 2, 'falta_lista3': 37}\n"
     ]
    }
   ],
   "source": [
    "lista1 = [3,7,1,2,8,4,5]\n",
    "lista2 = [4,6,1,3,5]\n",
    "lista3 = [34,35,36,38,39,40]\n",
    "\n",
    "resultados = {}\n",
    "\n",
    "c = 1\n",
    "lista_unida = [lista1, lista2, lista3]\n",
    "\n",
    "for lista in lista_unida:\n",
    "    for i in range(min(lista),max(lista)):\n",
    "        if i not in lista:\n",
    "            print(F'Falta el número {i}')\n",
    "            resultados.setdefault(F'falta_lista{c}', i)\n",
    "            c += 1\n",
    "            \n",
    "print(resultados)"
   ]
  },
  {
   "attachments": {},
   "cell_type": "markdown",
   "metadata": {},
   "source": [
    "**Mover los ceros a la izquierda**\n",
    "\n",
    "Nos dan un *string* con números aleatorios. Algunos de ellos son 0. Encuentra todos los ceros y ponlos al principio de la lista, manteniendo el orden de los demás números.\n",
    "\n",
    "Ejemplo:\n",
    "\n",
    "```python\n",
    "A = [1,10,88,0,59,63,0,20,0]\n",
    "\n",
    "# tiene que devolver\n",
    "[0, 0, 0, 1, 10, 88, 59, 63, 20]\n",
    "```"
   ]
  },
  {
   "cell_type": "code",
   "execution_count": 45,
   "metadata": {},
   "outputs": [
    {
     "data": {
      "text/plain": [
       "[0, 0, 0, 1, 5, 23, 12, 34, 89, 45, 12, 55, 99]"
      ]
     },
     "execution_count": 45,
     "metadata": {},
     "output_type": "execute_result"
    }
   ],
   "source": [
    "\n",
    "string = '1, 5, 23, 12, 34, 89, 45, 0, 12, 0, 55, 0, 99'\n",
    "string2 = string.replace(',','')\n",
    "list_str = string2.split()\n",
    "list_int = []\n",
    "\n",
    "for num in list_str:\n",
    "    if int(num) == 0:\n",
    "        list_int.insert(0,int(num))\n",
    "    else:\n",
    "        list_int.append(int(num))\n",
    "        \n",
    "    \n",
    "print(list_int)\n"
   ]
  },
  {
   "attachments": {},
   "cell_type": "markdown",
   "metadata": {},
   "source": [
    "**Invertir palabras de una frase**\n",
    "\n",
    "Nos dan una frase en que quieren que las letras de cada palabra acaben teniendo el orden invertido, manteniendo el orden de las palabras.\n",
    "\n",
    "```python\n",
    "frase = 'Hola Ada'\n",
    "print(frase) # nos daría 'aloH adA'\n",
    "```"
   ]
  },
  {
   "cell_type": "code",
   "execution_count": 42,
   "metadata": {},
   "outputs": [
    {
     "name": "stdout",
     "output_type": "stream",
     "text": [
      "['euQ', 'licifiD']\n"
     ]
    }
   ],
   "source": [
    "frase = 'Que Dificil'\n",
    "frase1 = frase.split()\n",
    "\n",
    "#frase_girada = []\n",
    "#for palabra in frase1:\n",
    "    #frase_girada.append(palabra[::-1])\n",
    " \n",
    "frase_girada =[palabra[::-1] for palabra in frase1 ] \n",
    "\n",
    "print(frase_girada)"
   ]
  },
  {
   "cell_type": "code",
   "execution_count": 20,
   "metadata": {},
   "outputs": [
    {
     "data": {
      "text/plain": [
       "'o'"
      ]
     },
     "execution_count": 20,
     "metadata": {},
     "output_type": "execute_result"
    }
   ],
   "source": [
    "palabra = 'bonitisimo'\n",
    "palabra_rev = palabra[1:2]\n",
    "palabra_rev"
   ]
  },
  {
   "attachments": {},
   "cell_type": "markdown",
   "metadata": {},
   "source": [
    "###  ¿Es un DNI valido?\n",
    "\n",
    "Los DNI españoles pueden ser:\n",
    "\n",
    "- NIF (Numero de Identificación Fiscal) - 8 numeros y una letra, o\n",
    "- NIE (Numero de Identificación de Extranjeros) - 1 letra, 7 numeros y 1 letra."
   ]
  },
  {
   "cell_type": "code",
   "execution_count": 23,
   "metadata": {},
   "outputs": [
    {
     "name": "stdout",
     "output_type": "stream",
     "text": [
      "Dni valido\n",
      "Dni no valido\n",
      "Dni valido\n",
      "Dni valido\n",
      "Dni no valido\n"
     ]
    }
   ],
   "source": [
    "letras_ini_nie =['X', 'Y', 'Z']\n",
    "letras_nif_fin =['A', 'B', 'C', 'D', 'D', 'E', 'F', 'G', 'H', 'J', 'K', 'L', 'M', 'N', 'P', 'Q', 'R', 'S', 'T', 'V', 'W', 'X', 'Y', 'Z']\n",
    "\n",
    "lista_dni = [\"X-1234567-Z\", \"X-1234567\", \"12345678-M\", \"1234567-T\", \"12345677\"] \n",
    "lista_dni2 = [str_.split('-') for str_ in lista_dni]\n",
    "\n",
    "\n",
    "\n",
    "for sublista in lista_dni2:\n",
    "    if len(sublista) == 3 and sublista[0] in letras_ini_nie and sublista[1].isdigit() == True or len(sublista) == 2 and sublista[0].isdigit() == True and sublista[1] in letras_nif_fin: \n",
    "        print('Dni valido')\n",
    "    else:\n",
    "        print('Dni no valido')\n",
    "    \n",
    "\n",
    "\n",
    "\n"
   ]
  },
  {
   "cell_type": "code",
   "execution_count": 12,
   "metadata": {},
   "outputs": [
    {
     "data": {
      "text/plain": [
       "True"
      ]
     },
     "execution_count": 12,
     "metadata": {},
     "output_type": "execute_result"
    }
   ],
   "source": [
    "p = '012345'\n",
    "\n",
    "p.isdigit()"
   ]
  },
  {
   "attachments": {},
   "cell_type": "markdown",
   "metadata": {},
   "source": [
    "**BONUS: Encuentra los k números más cerca a X**\n",
    "\n",
    "\n",
    "Haz una programa que compare los contenidos de una lista a un número dado X. Queremos que nos devuelva los k números que son más parecidos al número dado.\n",
    "\n",
    "Ejemplo:\n",
    "```python\n",
    "L = [4, 19, -5, 100, 53, 43, 74, -83, 13.5, 26]\n",
    "# Dados los siguientes valores \n",
    "x =30\n",
    "k = 3 # el número de números que tendremos que buscar en la lista que se parecen a 30 \n",
    "# El output debería ser igual a [26, 19, 43]\n",
    "```"
   ]
  },
  {
   "cell_type": "code",
   "execution_count": 34,
   "metadata": {},
   "outputs": [
    {
     "name": "stdout",
     "output_type": "stream",
     "text": [
      "[19, 43, 26]\n"
     ]
    }
   ],
   "source": [
    "\n",
    "L = [4, 19, -5, 100, 53, 43, 74, -83, 13.5, 26]\n",
    " \n",
    "numero_comp =30\n",
    "repet_max = 3\n",
    "contador = 0\n",
    "\n",
    "lista_parecidos = []\n",
    "\n",
    "while contador <= repet_max:\n",
    "    for num in L:\n",
    "        if num >= (numero_comp - 15) and num <= (numero_comp + 15):\n",
    "            lista_parecidos.append(num)\n",
    "        contador += 1\n",
    "print(lista_parecidos)       \n",
    "\n",
    "        \n"
   ]
  }
 ],
 "metadata": {
  "kernelspec": {
   "display_name": "Python 3",
   "language": "python",
   "name": "python3"
  },
  "language_info": {
   "codemirror_mode": {
    "name": "ipython",
    "version": 3
   },
   "file_extension": ".py",
   "mimetype": "text/x-python",
   "name": "python",
   "nbconvert_exporter": "python",
   "pygments_lexer": "ipython3",
   "version": "3.9.7"
  },
  "orig_nbformat": 4,
  "vscode": {
   "interpreter": {
    "hash": "31f2aee4e71d21fbe5cf8b01ff0e069b9275f58929596ceb00d14d90e3e16cd6"
   }
  }
 },
 "nbformat": 4,
 "nbformat_minor": 2
}
