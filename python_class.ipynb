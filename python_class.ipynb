{
 "cells": [
  {
   "cell_type": "code",
   "execution_count": 1,
   "metadata": {},
   "outputs": [],
   "source": [
    "import os\n",
    "import re"
   ]
  },
  {
   "attachments": {},
   "cell_type": "markdown",
   "metadata": {},
   "source": [
    "Ejemplo de uso: Estamos trabajando para una editorial y tienen muchos ficheros de tipo .txt\n",
    "\n",
    "Creamos una clase que:\n",
    "\n",
    "- Recibe dos parámetros en el método constructor: 1. La ruta donde se encuentra el fichero, 2. El nombre y la extensión del fichero que quieren abrir. \n",
    "\n",
    "- Tiene un método que nos abre el fichero en python, y obtiene un único *string* con el contenido del archivo. Debemos proporcionarle la ruta en la que está situado el archivo para que podamos abrirlo independientemente de dónde esté situado.\n",
    "\n",
    "- Tiene un método que nos abre el fichero en python, y obtiene un único *string* con un número de palabras determinado del contenido del archivo. Debemos proporcionarle el número de palabras como parámetro. Si pasamos el número como tipo distinto a *integer*, nos saldrá un mensaje de error\n",
    "\n",
    "- Tiene un método que nos abre el fichero en python, y obtiene un único *string* con todas o bien con un número determinado de LÍNEAS del contenido del archivo. El número de líneas se nos pide como *input*. Si pasamos el número como tipo distinto a *integer*, nos saldrá un mensaje de error. El método nos devuelve el texto como un único *string*.\n",
    "\n",
    "- Tiene un método específico que obtiene un *string* con el contenido principal del archivo, sin la introducción inicial ni el epílogo. Debemos proporcionar de qué línea a qué linea se encuentra el texto principal (el texto principal en el archivo *quijote.txt* está a partir de la línea 1780 y hasta la 74276)\n",
    "\n",
    "- Tiene un método que nos permite extraer cuántas veces aparece un determinado *string* en el contenido del archivo. El *string* se nos pide como *input* y el método nos devuelve el número de coincidencias. No distingue entre mayúsculas y minúsculas"
   ]
  },
  {
   "cell_type": "code",
   "execution_count": 24,
   "metadata": {},
   "outputs": [],
   "source": [
    "\n",
    "class Libro:\n",
    "    \"\"\"\n",
    "    Representa un archivo.\n",
    "    Attributes:\n",
    "    ruta (str): Ruta\n",
    "    encod (str): Encoding\n",
    "    \"\"\" \n",
    "    \n",
    "    def __init__(self, ruta, encod): \n",
    "        \"\"\"\n",
    "        Inicializa en objeto de tipo Archivo\n",
    "        Args:\n",
    "        ruta (str): Ruta del archivo en nuestro ordenador\n",
    "        encod (str): Encoding necesario para que el archivo reconozca los caracteres especiales\n",
    "        \"\"\"\n",
    "             \n",
    "        self.ruta = ruta\n",
    "        self.encod = encod\n",
    "        \n",
    "        \n",
    "        \n",
    "    def openfile(self):\n",
    "        \"\"\"\n",
    "        Nos permite abrir un archivo y obetener su contenido\n",
    "        Args:\n",
    "        \n",
    "        Returns: \n",
    "        texto_completo (str): Un string con el contenido del archivo\n",
    "        \"\"\"\n",
    "              \n",
    "        with open (self.ruta, encoding = self.encod) as f:\n",
    "            texto_completo = f.read()            \n",
    "            \n",
    "        return texto_completo\n",
    "           \n",
    "        \n",
    "        \n",
    "    def getwords(self, palabras):\n",
    "        self.palabras = palabras\n",
    "        \"\"\"\n",
    "        Nos permite abrir un archivo y obtener un número específico de palabras\n",
    "        Args:\n",
    "        num_words(int): número de palabras\n",
    "        Returns: \n",
    "        texto_seleccion (str): Un string con el número de palabras especificado\n",
    "        \"\"\"\n",
    "        \n",
    "        try:            \n",
    "            texto_completo = self.openfile()\n",
    "            lista_limpia = re.sub('\\n', ' ', texto_completo)\n",
    "            lista_dividida = re.split(' +', lista_limpia)\n",
    "            lista_seleccion = lista_dividida[:self.palabras]\n",
    "            texto_seleccion = ' '.join(lista_seleccion)            \n",
    "            return texto_seleccion\n",
    "                           \n",
    "        except TypeError:\n",
    "            print('Debes introducir un número entero')\n",
    "        \n",
    "            \n",
    "                    \n",
    "    def getlines(self): \n",
    "        \"\"\"\n",
    "        Nos permite abrir un archivo y obtener todas o un número específico de líneas\n",
    "        Args:\n",
    "        \n",
    "        Returns: \n",
    "        texto_seleccion (str): Un string con el número de líneas especificado\n",
    "        \"\"\" \n",
    "        texto_completo = self.openfile()        \n",
    "        \n",
    "        choice = int(input(\"\"\"Elige una opcion:\n",
    "                           1. Leer el libro entero\n",
    "                           2. Leer un numero de lineas\"\"\"))\n",
    "        if choice == 1:            \n",
    "            return texto_completo                      \n",
    "                       \n",
    "        elif choice == 2:\n",
    "            try:            \n",
    "                lineas = int(input('¿Cuantas lineas quieres leer?'))                \n",
    "                lista_dividida = re.split('\\n', texto_completo)\n",
    "                lista_seleccion = lista_dividida[:lineas]\n",
    "                texto_seleccion = '\\n'.join(lista_seleccion)\n",
    "                return texto_seleccion                                    \n",
    "            except ValueError:\n",
    "                        print('Introduce un numero entero')\n",
    "                        self.getlines()\n",
    "        else:\n",
    "            self.getlines()\n",
    "            \n",
    "              \n",
    "            \n",
    "    def dropintro(self, linea_ini, linea_fin):\n",
    "        self.linea_ini = linea_ini\n",
    "        self.linea_fin = linea_fin\n",
    "        \"\"\"\n",
    "        Nos permite abrir un archivo y obtener desde un numero específico de líneas hasta otro\n",
    "        Args:\n",
    "        linea_ini(int): numero de linea donde se inicia el texto principañ\n",
    "        linea_fin(int): numero de linea donde finaliza el texto principal\n",
    "        Returns: \n",
    "        texto_seleccion (str): Un string con el número de líneas especificado\n",
    "        \"\"\" \n",
    "        texto_completo = self.openfile()\n",
    "        lista_dividida = re.split('\\n', texto_completo)\n",
    "        lista_seleccion = lista_dividida[self.linea_ini:self.linea_fin+1]\n",
    "        texto_seleccion = '\\n'.join(lista_seleccion)\n",
    "        return texto_seleccion\n",
    "            \n",
    "            \n",
    "            \n",
    "    def searchwords(self):\n",
    "        \"\"\"\n",
    "        Nos permite saber cuantas veces se repite una frase o una palabra en el contenido de un archivo sin distinguir mayusculas o minusculas\n",
    "        Args:\n",
    "         \n",
    "        Returns: \n",
    "        recuento (int): numero de coincidencias\n",
    "        \"\"\" \n",
    "        texto_completo = self.openfile().lower()\n",
    "              \n",
    "        palabra = input('¿Que palabra quieres buscar?')\n",
    "        busqueda = re.findall(palabra.lower(), texto_completo)\n",
    "        recuento = len(busqueda)\n",
    "        \n",
    "        return recuento         \n",
    "                         \n",
    "        "
   ]
  },
  {
   "cell_type": "code",
   "execution_count": 25,
   "metadata": {},
   "outputs": [],
   "source": [
    "encoding_archivo = 'latin-1'\n",
    "ruta_archivo = 'data/quijote.txt'\n",
    "\n",
    "libro1 = Libro(ruta_archivo, encoding_archivo)"
   ]
  },
  {
   "cell_type": "code",
   "execution_count": null,
   "metadata": {},
   "outputs": [],
   "source": [
    "lectura1 = libro1.openfile()\n",
    "print(lectura1)"
   ]
  },
  {
   "cell_type": "code",
   "execution_count": null,
   "metadata": {},
   "outputs": [],
   "source": [
    "lectura2 = libro1.getwords(80)\n",
    "print(lectura2)"
   ]
  },
  {
   "cell_type": "code",
   "execution_count": null,
   "metadata": {},
   "outputs": [],
   "source": [
    "lectura3 = libro1.getlines()\n",
    "print(lectura3)"
   ]
  },
  {
   "cell_type": "code",
   "execution_count": null,
   "metadata": {},
   "outputs": [],
   "source": [
    "lectura4 = libro1.dropintro(1780, 74277)\n",
    "print(lectura4)"
   ]
  },
  {
   "cell_type": "code",
   "execution_count": null,
   "metadata": {},
   "outputs": [],
   "source": [
    "recuento1 = libro1.searchwords()\n",
    "recuento1"
   ]
  }
 ],
 "metadata": {
  "kernelspec": {
   "display_name": "Python 3",
   "language": "python",
   "name": "python3"
  },
  "language_info": {
   "codemirror_mode": {
    "name": "ipython",
    "version": 3
   },
   "file_extension": ".py",
   "mimetype": "text/x-python",
   "name": "python",
   "nbconvert_exporter": "python",
   "pygments_lexer": "ipython3",
   "version": "3.9.7"
  },
  "orig_nbformat": 4,
  "vscode": {
   "interpreter": {
    "hash": "31f2aee4e71d21fbe5cf8b01ff0e069b9275f58929596ceb00d14d90e3e16cd6"
   }
  }
 },
 "nbformat": 4,
 "nbformat_minor": 2
}
